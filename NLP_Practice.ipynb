{
  "cells": [
    {
      "cell_type": "markdown",
      "metadata": {
        "id": "view-in-github",
        "colab_type": "text"
      },
      "source": [
        "<a href=\"https://colab.research.google.com/github/Jirapat2035/BigData/blob/main/NLP_Practice.ipynb\" target=\"_parent\"><img src=\"https://colab.research.google.com/assets/colab-badge.svg\" alt=\"Open In Colab\"/></a>"
      ]
    },
    {
      "cell_type": "markdown",
      "metadata": {
        "id": "r04VJAMBcWkJ"
      },
      "source": [
        "1) ให้ลบเครื่องหมายวรรคตอนออกจากเพลงต่อไปนี้ให้หมด (punctuation) เช่น , หรือ !"
      ]
    },
    {
      "cell_type": "code",
      "source": [],
      "metadata": {
        "id": "KYjgZJtihq7H"
      },
      "execution_count": null,
      "outputs": []
    },
    {
      "cell_type": "code",
      "execution_count": 3,
      "metadata": {
        "colab": {
          "base_uri": "https://localhost:8080/"
        },
        "id": "WeMXdvpXZytk",
        "outputId": "cb69e2ae-bf82-41bd-893d-1ad035e54dd4"
      },
      "outputs": [
        {
          "output_type": "stream",
          "name": "stdout",
          "text": [
            "Fly me to the moon\n",
            "Let me play among the stars        \n",
            "Let me see what spring is like on        \n",
            "A-Jupiter and Mars\n",
            "In other words, hold my hand        \n",
            "In other words, baby, kiss me        \n",
            "Fill my heart with song and let me sing forevermore        \n",
            "You are all I long for        \n",
            "All I worship and adore        \n",
            "In other words, please be true        \n",
            "In other words, I love You        \n",
            "Fill my heart with song        \n",
            "Let me sing forevermore        \n",
            "You are all I long for, all I worship and adore        \n",
            "In other words, please be true        \n",
            "In other words        \n",
            "In other words        \n",
            "I LOVE YOU!\n"
          ]
        }
      ],
      "source": [
        "song = \"Fly me to the moon\\nLet me play among the stars\\\n",
        "        \\nLet me see what spring is like on\\\n",
        "        \\nA-Jupiter and Mars\\nIn other words, hold my hand\\\n",
        "        \\nIn other words, baby, kiss me\\\n",
        "        \\nFill my heart with song and let me sing forevermore\\\n",
        "        \\nYou are all I long for\\\n",
        "        \\nAll I worship and adore\\\n",
        "        \\nIn other words, please be true\\\n",
        "        \\nIn other words, I love You\\\n",
        "        \\nFill my heart with song\\\n",
        "        \\nLet me sing forevermore\\\n",
        "        \\nYou are all I long for, all I worship and adore\\\n",
        "        \\nIn other words, please be true\\\n",
        "        \\nIn other words\\\n",
        "        \\nIn other words\\\n",
        "        \\nI LOVE YOU!\"\n",
        "print(song)"
      ]
    },
    {
      "cell_type": "code",
      "source": [
        "# your code here\n",
        "song_no_punc = re.sub(r'[^\\w\\s]', '', song)\n",
        "print(song_no_punc)"
      ],
      "metadata": {
        "colab": {
          "base_uri": "https://localhost:8080/"
        },
        "id": "pb_ioj4aioUD",
        "outputId": "9bf54560-9b6c-47fd-8125-c0bf2c321e7d"
      },
      "execution_count": 8,
      "outputs": [
        {
          "output_type": "stream",
          "name": "stdout",
          "text": [
            "Fly me to the moon\n",
            "Let me play among the stars        \n",
            "Let me see what spring is like on        \n",
            "AJupiter and Mars\n",
            "In other words hold my hand        \n",
            "In other words baby kiss me        \n",
            "Fill my heart with song and let me sing forevermore        \n",
            "You are all I long for        \n",
            "All I worship and adore        \n",
            "In other words please be true        \n",
            "In other words I love You        \n",
            "Fill my heart with song        \n",
            "Let me sing forevermore        \n",
            "You are all I long for all I worship and adore        \n",
            "In other words please be true        \n",
            "In other words        \n",
            "In other words        \n",
            "I LOVE YOU\n"
          ]
        }
      ]
    },
    {
      "cell_type": "markdown",
      "metadata": {
        "id": "6RN2pwEKdjdv"
      },
      "source": [
        "2) นับคำว่ารัก (love) ทั้งหมดในเพลงดังกล่าว รวมคำที่เขียนด้วยตัวอักษรทั้งพิมพ์ใหญ่และพิมพ์เล็ก"
      ]
    },
    {
      "cell_type": "code",
      "source": [
        "# your code here\n",
        "love_count = len(re.findall(r'love', song_no_punc, re.IGNORECASE))\n",
        "print(f\"คำว่า 'love' มีทั้งหมด {love_count} คำ\")\n"
      ],
      "metadata": {
        "colab": {
          "base_uri": "https://localhost:8080/"
        },
        "id": "vJIheN7CjNmz",
        "outputId": "1e4bc034-1c9b-40ef-f76e-8530df8778e2"
      },
      "execution_count": 10,
      "outputs": [
        {
          "output_type": "stream",
          "name": "stdout",
          "text": [
            "คำว่า 'love' มีทั้งหมด 2 คำ\n"
          ]
        }
      ]
    },
    {
      "cell_type": "markdown",
      "metadata": {
        "id": "gVxf2cBzgPhN"
      },
      "source": [
        "3) จากข้อมูลต่อไปนี้ สร้างคอลัมน์ใหม่ ได้แก่ Firstname, Lastname, Weekday และ Country\n",
        "* Firstname แยกชื่อจาก Fullname\n",
        "* Lastname แยกนามสกุลจาก Fullname\n",
        "* Weekday วันเกิดคือวันอะไร (Monday - Sunday)\n",
        "* Country แยกประเทศจาก Address"
      ]
    },
    {
      "cell_type": "code",
      "execution_count": 11,
      "metadata": {
        "colab": {
          "base_uri": "https://localhost:8080/",
          "height": 175
        },
        "id": "DoTKusS3gLrq",
        "outputId": "47e6c652-8ccd-4307-a5aa-51216ecb56d6"
      },
      "outputs": [
        {
          "output_type": "execute_result",
          "data": {
            "text/plain": [
              "        Fullname   Birthdate                                       Address\n",
              "0  Pitch Wiratch  15/05/2015   555 KKU Village, Khon Kaen, Thailand, 40000\n",
              "1     Sam Sonite  10/03/1910  13-15 avenue de la Liberté, Luxembourg, 1931\n",
              "2   Mickey Mouse  18/11/1928         1375 Lake Buena Vista, FL, USA, 32830\n",
              "3   Felonius Gru  28/09/1960      1234 Albuquerque, New Mexico, USA, 87777"
            ],
            "text/html": [
              "\n",
              "  <div id=\"df-6c46cbb8-876c-4732-9852-22c4dfbc00a5\" class=\"colab-df-container\">\n",
              "    <div>\n",
              "<style scoped>\n",
              "    .dataframe tbody tr th:only-of-type {\n",
              "        vertical-align: middle;\n",
              "    }\n",
              "\n",
              "    .dataframe tbody tr th {\n",
              "        vertical-align: top;\n",
              "    }\n",
              "\n",
              "    .dataframe thead th {\n",
              "        text-align: right;\n",
              "    }\n",
              "</style>\n",
              "<table border=\"1\" class=\"dataframe\">\n",
              "  <thead>\n",
              "    <tr style=\"text-align: right;\">\n",
              "      <th></th>\n",
              "      <th>Fullname</th>\n",
              "      <th>Birthdate</th>\n",
              "      <th>Address</th>\n",
              "    </tr>\n",
              "  </thead>\n",
              "  <tbody>\n",
              "    <tr>\n",
              "      <th>0</th>\n",
              "      <td>Pitch Wiratch</td>\n",
              "      <td>15/05/2015</td>\n",
              "      <td>555 KKU Village, Khon Kaen, Thailand, 40000</td>\n",
              "    </tr>\n",
              "    <tr>\n",
              "      <th>1</th>\n",
              "      <td>Sam Sonite</td>\n",
              "      <td>10/03/1910</td>\n",
              "      <td>13-15 avenue de la Liberté, Luxembourg, 1931</td>\n",
              "    </tr>\n",
              "    <tr>\n",
              "      <th>2</th>\n",
              "      <td>Mickey Mouse</td>\n",
              "      <td>18/11/1928</td>\n",
              "      <td>1375 Lake Buena Vista, FL, USA, 32830</td>\n",
              "    </tr>\n",
              "    <tr>\n",
              "      <th>3</th>\n",
              "      <td>Felonius Gru</td>\n",
              "      <td>28/09/1960</td>\n",
              "      <td>1234 Albuquerque, New Mexico, USA, 87777</td>\n",
              "    </tr>\n",
              "  </tbody>\n",
              "</table>\n",
              "</div>\n",
              "    <div class=\"colab-df-buttons\">\n",
              "\n",
              "  <div class=\"colab-df-container\">\n",
              "    <button class=\"colab-df-convert\" onclick=\"convertToInteractive('df-6c46cbb8-876c-4732-9852-22c4dfbc00a5')\"\n",
              "            title=\"Convert this dataframe to an interactive table.\"\n",
              "            style=\"display:none;\">\n",
              "\n",
              "  <svg xmlns=\"http://www.w3.org/2000/svg\" height=\"24px\" viewBox=\"0 -960 960 960\">\n",
              "    <path d=\"M120-120v-720h720v720H120Zm60-500h600v-160H180v160Zm220 220h160v-160H400v160Zm0 220h160v-160H400v160ZM180-400h160v-160H180v160Zm440 0h160v-160H620v160ZM180-180h160v-160H180v160Zm440 0h160v-160H620v160Z\"/>\n",
              "  </svg>\n",
              "    </button>\n",
              "\n",
              "  <style>\n",
              "    .colab-df-container {\n",
              "      display:flex;\n",
              "      gap: 12px;\n",
              "    }\n",
              "\n",
              "    .colab-df-convert {\n",
              "      background-color: #E8F0FE;\n",
              "      border: none;\n",
              "      border-radius: 50%;\n",
              "      cursor: pointer;\n",
              "      display: none;\n",
              "      fill: #1967D2;\n",
              "      height: 32px;\n",
              "      padding: 0 0 0 0;\n",
              "      width: 32px;\n",
              "    }\n",
              "\n",
              "    .colab-df-convert:hover {\n",
              "      background-color: #E2EBFA;\n",
              "      box-shadow: 0px 1px 2px rgba(60, 64, 67, 0.3), 0px 1px 3px 1px rgba(60, 64, 67, 0.15);\n",
              "      fill: #174EA6;\n",
              "    }\n",
              "\n",
              "    .colab-df-buttons div {\n",
              "      margin-bottom: 4px;\n",
              "    }\n",
              "\n",
              "    [theme=dark] .colab-df-convert {\n",
              "      background-color: #3B4455;\n",
              "      fill: #D2E3FC;\n",
              "    }\n",
              "\n",
              "    [theme=dark] .colab-df-convert:hover {\n",
              "      background-color: #434B5C;\n",
              "      box-shadow: 0px 1px 3px 1px rgba(0, 0, 0, 0.15);\n",
              "      filter: drop-shadow(0px 1px 2px rgba(0, 0, 0, 0.3));\n",
              "      fill: #FFFFFF;\n",
              "    }\n",
              "  </style>\n",
              "\n",
              "    <script>\n",
              "      const buttonEl =\n",
              "        document.querySelector('#df-6c46cbb8-876c-4732-9852-22c4dfbc00a5 button.colab-df-convert');\n",
              "      buttonEl.style.display =\n",
              "        google.colab.kernel.accessAllowed ? 'block' : 'none';\n",
              "\n",
              "      async function convertToInteractive(key) {\n",
              "        const element = document.querySelector('#df-6c46cbb8-876c-4732-9852-22c4dfbc00a5');\n",
              "        const dataTable =\n",
              "          await google.colab.kernel.invokeFunction('convertToInteractive',\n",
              "                                                    [key], {});\n",
              "        if (!dataTable) return;\n",
              "\n",
              "        const docLinkHtml = 'Like what you see? Visit the ' +\n",
              "          '<a target=\"_blank\" href=https://colab.research.google.com/notebooks/data_table.ipynb>data table notebook</a>'\n",
              "          + ' to learn more about interactive tables.';\n",
              "        element.innerHTML = '';\n",
              "        dataTable['output_type'] = 'display_data';\n",
              "        await google.colab.output.renderOutput(dataTable, element);\n",
              "        const docLink = document.createElement('div');\n",
              "        docLink.innerHTML = docLinkHtml;\n",
              "        element.appendChild(docLink);\n",
              "      }\n",
              "    </script>\n",
              "  </div>\n",
              "\n",
              "\n",
              "<div id=\"df-01f818d0-2a39-43e9-bd3b-e75f5821f185\">\n",
              "  <button class=\"colab-df-quickchart\" onclick=\"quickchart('df-01f818d0-2a39-43e9-bd3b-e75f5821f185')\"\n",
              "            title=\"Suggest charts\"\n",
              "            style=\"display:none;\">\n",
              "\n",
              "<svg xmlns=\"http://www.w3.org/2000/svg\" height=\"24px\"viewBox=\"0 0 24 24\"\n",
              "     width=\"24px\">\n",
              "    <g>\n",
              "        <path d=\"M19 3H5c-1.1 0-2 .9-2 2v14c0 1.1.9 2 2 2h14c1.1 0 2-.9 2-2V5c0-1.1-.9-2-2-2zM9 17H7v-7h2v7zm4 0h-2V7h2v10zm4 0h-2v-4h2v4z\"/>\n",
              "    </g>\n",
              "</svg>\n",
              "  </button>\n",
              "\n",
              "<style>\n",
              "  .colab-df-quickchart {\n",
              "      --bg-color: #E8F0FE;\n",
              "      --fill-color: #1967D2;\n",
              "      --hover-bg-color: #E2EBFA;\n",
              "      --hover-fill-color: #174EA6;\n",
              "      --disabled-fill-color: #AAA;\n",
              "      --disabled-bg-color: #DDD;\n",
              "  }\n",
              "\n",
              "  [theme=dark] .colab-df-quickchart {\n",
              "      --bg-color: #3B4455;\n",
              "      --fill-color: #D2E3FC;\n",
              "      --hover-bg-color: #434B5C;\n",
              "      --hover-fill-color: #FFFFFF;\n",
              "      --disabled-bg-color: #3B4455;\n",
              "      --disabled-fill-color: #666;\n",
              "  }\n",
              "\n",
              "  .colab-df-quickchart {\n",
              "    background-color: var(--bg-color);\n",
              "    border: none;\n",
              "    border-radius: 50%;\n",
              "    cursor: pointer;\n",
              "    display: none;\n",
              "    fill: var(--fill-color);\n",
              "    height: 32px;\n",
              "    padding: 0;\n",
              "    width: 32px;\n",
              "  }\n",
              "\n",
              "  .colab-df-quickchart:hover {\n",
              "    background-color: var(--hover-bg-color);\n",
              "    box-shadow: 0 1px 2px rgba(60, 64, 67, 0.3), 0 1px 3px 1px rgba(60, 64, 67, 0.15);\n",
              "    fill: var(--button-hover-fill-color);\n",
              "  }\n",
              "\n",
              "  .colab-df-quickchart-complete:disabled,\n",
              "  .colab-df-quickchart-complete:disabled:hover {\n",
              "    background-color: var(--disabled-bg-color);\n",
              "    fill: var(--disabled-fill-color);\n",
              "    box-shadow: none;\n",
              "  }\n",
              "\n",
              "  .colab-df-spinner {\n",
              "    border: 2px solid var(--fill-color);\n",
              "    border-color: transparent;\n",
              "    border-bottom-color: var(--fill-color);\n",
              "    animation:\n",
              "      spin 1s steps(1) infinite;\n",
              "  }\n",
              "\n",
              "  @keyframes spin {\n",
              "    0% {\n",
              "      border-color: transparent;\n",
              "      border-bottom-color: var(--fill-color);\n",
              "      border-left-color: var(--fill-color);\n",
              "    }\n",
              "    20% {\n",
              "      border-color: transparent;\n",
              "      border-left-color: var(--fill-color);\n",
              "      border-top-color: var(--fill-color);\n",
              "    }\n",
              "    30% {\n",
              "      border-color: transparent;\n",
              "      border-left-color: var(--fill-color);\n",
              "      border-top-color: var(--fill-color);\n",
              "      border-right-color: var(--fill-color);\n",
              "    }\n",
              "    40% {\n",
              "      border-color: transparent;\n",
              "      border-right-color: var(--fill-color);\n",
              "      border-top-color: var(--fill-color);\n",
              "    }\n",
              "    60% {\n",
              "      border-color: transparent;\n",
              "      border-right-color: var(--fill-color);\n",
              "    }\n",
              "    80% {\n",
              "      border-color: transparent;\n",
              "      border-right-color: var(--fill-color);\n",
              "      border-bottom-color: var(--fill-color);\n",
              "    }\n",
              "    90% {\n",
              "      border-color: transparent;\n",
              "      border-bottom-color: var(--fill-color);\n",
              "    }\n",
              "  }\n",
              "</style>\n",
              "\n",
              "  <script>\n",
              "    async function quickchart(key) {\n",
              "      const quickchartButtonEl =\n",
              "        document.querySelector('#' + key + ' button');\n",
              "      quickchartButtonEl.disabled = true;  // To prevent multiple clicks.\n",
              "      quickchartButtonEl.classList.add('colab-df-spinner');\n",
              "      try {\n",
              "        const charts = await google.colab.kernel.invokeFunction(\n",
              "            'suggestCharts', [key], {});\n",
              "      } catch (error) {\n",
              "        console.error('Error during call to suggestCharts:', error);\n",
              "      }\n",
              "      quickchartButtonEl.classList.remove('colab-df-spinner');\n",
              "      quickchartButtonEl.classList.add('colab-df-quickchart-complete');\n",
              "    }\n",
              "    (() => {\n",
              "      let quickchartButtonEl =\n",
              "        document.querySelector('#df-01f818d0-2a39-43e9-bd3b-e75f5821f185 button');\n",
              "      quickchartButtonEl.style.display =\n",
              "        google.colab.kernel.accessAllowed ? 'block' : 'none';\n",
              "    })();\n",
              "  </script>\n",
              "</div>\n",
              "\n",
              "  <div id=\"id_8d186185-6231-4218-be9d-d99e7ab694e2\">\n",
              "    <style>\n",
              "      .colab-df-generate {\n",
              "        background-color: #E8F0FE;\n",
              "        border: none;\n",
              "        border-radius: 50%;\n",
              "        cursor: pointer;\n",
              "        display: none;\n",
              "        fill: #1967D2;\n",
              "        height: 32px;\n",
              "        padding: 0 0 0 0;\n",
              "        width: 32px;\n",
              "      }\n",
              "\n",
              "      .colab-df-generate:hover {\n",
              "        background-color: #E2EBFA;\n",
              "        box-shadow: 0px 1px 2px rgba(60, 64, 67, 0.3), 0px 1px 3px 1px rgba(60, 64, 67, 0.15);\n",
              "        fill: #174EA6;\n",
              "      }\n",
              "\n",
              "      [theme=dark] .colab-df-generate {\n",
              "        background-color: #3B4455;\n",
              "        fill: #D2E3FC;\n",
              "      }\n",
              "\n",
              "      [theme=dark] .colab-df-generate:hover {\n",
              "        background-color: #434B5C;\n",
              "        box-shadow: 0px 1px 3px 1px rgba(0, 0, 0, 0.15);\n",
              "        filter: drop-shadow(0px 1px 2px rgba(0, 0, 0, 0.3));\n",
              "        fill: #FFFFFF;\n",
              "      }\n",
              "    </style>\n",
              "    <button class=\"colab-df-generate\" onclick=\"generateWithVariable('df')\"\n",
              "            title=\"Generate code using this dataframe.\"\n",
              "            style=\"display:none;\">\n",
              "\n",
              "  <svg xmlns=\"http://www.w3.org/2000/svg\" height=\"24px\"viewBox=\"0 0 24 24\"\n",
              "       width=\"24px\">\n",
              "    <path d=\"M7,19H8.4L18.45,9,17,7.55,7,17.6ZM5,21V16.75L18.45,3.32a2,2,0,0,1,2.83,0l1.4,1.43a1.91,1.91,0,0,1,.58,1.4,1.91,1.91,0,0,1-.58,1.4L9.25,21ZM18.45,9,17,7.55Zm-12,3A5.31,5.31,0,0,0,4.9,8.1,5.31,5.31,0,0,0,1,6.5,5.31,5.31,0,0,0,4.9,4.9,5.31,5.31,0,0,0,6.5,1,5.31,5.31,0,0,0,8.1,4.9,5.31,5.31,0,0,0,12,6.5,5.46,5.46,0,0,0,6.5,12Z\"/>\n",
              "  </svg>\n",
              "    </button>\n",
              "    <script>\n",
              "      (() => {\n",
              "      const buttonEl =\n",
              "        document.querySelector('#id_8d186185-6231-4218-be9d-d99e7ab694e2 button.colab-df-generate');\n",
              "      buttonEl.style.display =\n",
              "        google.colab.kernel.accessAllowed ? 'block' : 'none';\n",
              "\n",
              "      buttonEl.onclick = () => {\n",
              "        google.colab.notebook.generateWithVariable('df');\n",
              "      }\n",
              "      })();\n",
              "    </script>\n",
              "  </div>\n",
              "\n",
              "    </div>\n",
              "  </div>\n"
            ],
            "application/vnd.google.colaboratory.intrinsic+json": {
              "type": "dataframe",
              "variable_name": "df",
              "summary": "{\n  \"name\": \"df\",\n  \"rows\": 4,\n  \"fields\": [\n    {\n      \"column\": \"Fullname\",\n      \"properties\": {\n        \"dtype\": \"string\",\n        \"num_unique_values\": 4,\n        \"samples\": [\n          \"Sam Sonite\",\n          \"Felonius Gru\",\n          \"Pitch Wiratch\"\n        ],\n        \"semantic_type\": \"\",\n        \"description\": \"\"\n      }\n    },\n    {\n      \"column\": \"Birthdate\",\n      \"properties\": {\n        \"dtype\": \"object\",\n        \"num_unique_values\": 4,\n        \"samples\": [\n          \"10/03/1910\",\n          \"28/09/1960\",\n          \"15/05/2015\"\n        ],\n        \"semantic_type\": \"\",\n        \"description\": \"\"\n      }\n    },\n    {\n      \"column\": \"Address\",\n      \"properties\": {\n        \"dtype\": \"string\",\n        \"num_unique_values\": 4,\n        \"samples\": [\n          \"13-15 avenue de la Libert\\u00e9, Luxembourg, 1931\",\n          \"1234 Albuquerque, New Mexico, USA, 87777\",\n          \"555 KKU Village, Khon Kaen, Thailand, 40000\"\n        ],\n        \"semantic_type\": \"\",\n        \"description\": \"\"\n      }\n    }\n  ]\n}"
            }
          },
          "metadata": {},
          "execution_count": 11
        }
      ],
      "source": [
        "import pandas as pd\n",
        "df = pd.DataFrame({\"Fullname\": [\"Pitch Wiratch\", \"Sam Sonite\", \"Mickey Mouse\", \"Felonius Gru\"],\n",
        "                   \"Birthdate\": [\"15/05/2015\", \"10/03/1910\", \"18/11/1928\", \"28/09/1960\"],\n",
        "                   \"Address\": [\"555 KKU Village, Khon Kaen, Thailand, 40000\",\n",
        "                               \"13-15 avenue de la Liberté, Luxembourg, 1931\",\n",
        "                               \"1375 Lake Buena Vista, FL, USA, 32830\",\n",
        "                               \"1234 Albuquerque, New Mexico, USA, 87777\"]})\n",
        "df"
      ]
    },
    {
      "cell_type": "code",
      "execution_count": 12,
      "metadata": {
        "id": "YNtxoCEbicFK",
        "colab": {
          "base_uri": "https://localhost:8080/",
          "height": 175
        },
        "outputId": "a958371e-3732-41d9-8517-cb204715a455"
      },
      "outputs": [
        {
          "output_type": "execute_result",
          "data": {
            "text/plain": [
              "        Fullname  Birthdate                                       Address  \\\n",
              "0  Pitch Wiratch 2015-05-15   555 KKU Village, Khon Kaen, Thailand, 40000   \n",
              "1     Sam Sonite 1910-03-10  13-15 avenue de la Liberté, Luxembourg, 1931   \n",
              "2   Mickey Mouse 1928-11-18         1375 Lake Buena Vista, FL, USA, 32830   \n",
              "3   Felonius Gru 1960-09-28      1234 Albuquerque, New Mexico, USA, 87777   \n",
              "\n",
              "  Firstname Lastname    Weekday Country  \n",
              "0     Pitch  Wiratch     Friday     NaN  \n",
              "1       Sam   Sonite   Thursday     NaN  \n",
              "2    Mickey    Mouse     Sunday     NaN  \n",
              "3  Felonius      Gru  Wednesday     NaN  "
            ],
            "text/html": [
              "\n",
              "  <div id=\"df-e900f40b-3170-40de-9dc0-5c4178651920\" class=\"colab-df-container\">\n",
              "    <div>\n",
              "<style scoped>\n",
              "    .dataframe tbody tr th:only-of-type {\n",
              "        vertical-align: middle;\n",
              "    }\n",
              "\n",
              "    .dataframe tbody tr th {\n",
              "        vertical-align: top;\n",
              "    }\n",
              "\n",
              "    .dataframe thead th {\n",
              "        text-align: right;\n",
              "    }\n",
              "</style>\n",
              "<table border=\"1\" class=\"dataframe\">\n",
              "  <thead>\n",
              "    <tr style=\"text-align: right;\">\n",
              "      <th></th>\n",
              "      <th>Fullname</th>\n",
              "      <th>Birthdate</th>\n",
              "      <th>Address</th>\n",
              "      <th>Firstname</th>\n",
              "      <th>Lastname</th>\n",
              "      <th>Weekday</th>\n",
              "      <th>Country</th>\n",
              "    </tr>\n",
              "  </thead>\n",
              "  <tbody>\n",
              "    <tr>\n",
              "      <th>0</th>\n",
              "      <td>Pitch Wiratch</td>\n",
              "      <td>2015-05-15</td>\n",
              "      <td>555 KKU Village, Khon Kaen, Thailand, 40000</td>\n",
              "      <td>Pitch</td>\n",
              "      <td>Wiratch</td>\n",
              "      <td>Friday</td>\n",
              "      <td>NaN</td>\n",
              "    </tr>\n",
              "    <tr>\n",
              "      <th>1</th>\n",
              "      <td>Sam Sonite</td>\n",
              "      <td>1910-03-10</td>\n",
              "      <td>13-15 avenue de la Liberté, Luxembourg, 1931</td>\n",
              "      <td>Sam</td>\n",
              "      <td>Sonite</td>\n",
              "      <td>Thursday</td>\n",
              "      <td>NaN</td>\n",
              "    </tr>\n",
              "    <tr>\n",
              "      <th>2</th>\n",
              "      <td>Mickey Mouse</td>\n",
              "      <td>1928-11-18</td>\n",
              "      <td>1375 Lake Buena Vista, FL, USA, 32830</td>\n",
              "      <td>Mickey</td>\n",
              "      <td>Mouse</td>\n",
              "      <td>Sunday</td>\n",
              "      <td>NaN</td>\n",
              "    </tr>\n",
              "    <tr>\n",
              "      <th>3</th>\n",
              "      <td>Felonius Gru</td>\n",
              "      <td>1960-09-28</td>\n",
              "      <td>1234 Albuquerque, New Mexico, USA, 87777</td>\n",
              "      <td>Felonius</td>\n",
              "      <td>Gru</td>\n",
              "      <td>Wednesday</td>\n",
              "      <td>NaN</td>\n",
              "    </tr>\n",
              "  </tbody>\n",
              "</table>\n",
              "</div>\n",
              "    <div class=\"colab-df-buttons\">\n",
              "\n",
              "  <div class=\"colab-df-container\">\n",
              "    <button class=\"colab-df-convert\" onclick=\"convertToInteractive('df-e900f40b-3170-40de-9dc0-5c4178651920')\"\n",
              "            title=\"Convert this dataframe to an interactive table.\"\n",
              "            style=\"display:none;\">\n",
              "\n",
              "  <svg xmlns=\"http://www.w3.org/2000/svg\" height=\"24px\" viewBox=\"0 -960 960 960\">\n",
              "    <path d=\"M120-120v-720h720v720H120Zm60-500h600v-160H180v160Zm220 220h160v-160H400v160Zm0 220h160v-160H400v160ZM180-400h160v-160H180v160Zm440 0h160v-160H620v160ZM180-180h160v-160H180v160Zm440 0h160v-160H620v160Z\"/>\n",
              "  </svg>\n",
              "    </button>\n",
              "\n",
              "  <style>\n",
              "    .colab-df-container {\n",
              "      display:flex;\n",
              "      gap: 12px;\n",
              "    }\n",
              "\n",
              "    .colab-df-convert {\n",
              "      background-color: #E8F0FE;\n",
              "      border: none;\n",
              "      border-radius: 50%;\n",
              "      cursor: pointer;\n",
              "      display: none;\n",
              "      fill: #1967D2;\n",
              "      height: 32px;\n",
              "      padding: 0 0 0 0;\n",
              "      width: 32px;\n",
              "    }\n",
              "\n",
              "    .colab-df-convert:hover {\n",
              "      background-color: #E2EBFA;\n",
              "      box-shadow: 0px 1px 2px rgba(60, 64, 67, 0.3), 0px 1px 3px 1px rgba(60, 64, 67, 0.15);\n",
              "      fill: #174EA6;\n",
              "    }\n",
              "\n",
              "    .colab-df-buttons div {\n",
              "      margin-bottom: 4px;\n",
              "    }\n",
              "\n",
              "    [theme=dark] .colab-df-convert {\n",
              "      background-color: #3B4455;\n",
              "      fill: #D2E3FC;\n",
              "    }\n",
              "\n",
              "    [theme=dark] .colab-df-convert:hover {\n",
              "      background-color: #434B5C;\n",
              "      box-shadow: 0px 1px 3px 1px rgba(0, 0, 0, 0.15);\n",
              "      filter: drop-shadow(0px 1px 2px rgba(0, 0, 0, 0.3));\n",
              "      fill: #FFFFFF;\n",
              "    }\n",
              "  </style>\n",
              "\n",
              "    <script>\n",
              "      const buttonEl =\n",
              "        document.querySelector('#df-e900f40b-3170-40de-9dc0-5c4178651920 button.colab-df-convert');\n",
              "      buttonEl.style.display =\n",
              "        google.colab.kernel.accessAllowed ? 'block' : 'none';\n",
              "\n",
              "      async function convertToInteractive(key) {\n",
              "        const element = document.querySelector('#df-e900f40b-3170-40de-9dc0-5c4178651920');\n",
              "        const dataTable =\n",
              "          await google.colab.kernel.invokeFunction('convertToInteractive',\n",
              "                                                    [key], {});\n",
              "        if (!dataTable) return;\n",
              "\n",
              "        const docLinkHtml = 'Like what you see? Visit the ' +\n",
              "          '<a target=\"_blank\" href=https://colab.research.google.com/notebooks/data_table.ipynb>data table notebook</a>'\n",
              "          + ' to learn more about interactive tables.';\n",
              "        element.innerHTML = '';\n",
              "        dataTable['output_type'] = 'display_data';\n",
              "        await google.colab.output.renderOutput(dataTable, element);\n",
              "        const docLink = document.createElement('div');\n",
              "        docLink.innerHTML = docLinkHtml;\n",
              "        element.appendChild(docLink);\n",
              "      }\n",
              "    </script>\n",
              "  </div>\n",
              "\n",
              "\n",
              "<div id=\"df-b381a5e7-f9b7-4641-8c38-827fa159d52a\">\n",
              "  <button class=\"colab-df-quickchart\" onclick=\"quickchart('df-b381a5e7-f9b7-4641-8c38-827fa159d52a')\"\n",
              "            title=\"Suggest charts\"\n",
              "            style=\"display:none;\">\n",
              "\n",
              "<svg xmlns=\"http://www.w3.org/2000/svg\" height=\"24px\"viewBox=\"0 0 24 24\"\n",
              "     width=\"24px\">\n",
              "    <g>\n",
              "        <path d=\"M19 3H5c-1.1 0-2 .9-2 2v14c0 1.1.9 2 2 2h14c1.1 0 2-.9 2-2V5c0-1.1-.9-2-2-2zM9 17H7v-7h2v7zm4 0h-2V7h2v10zm4 0h-2v-4h2v4z\"/>\n",
              "    </g>\n",
              "</svg>\n",
              "  </button>\n",
              "\n",
              "<style>\n",
              "  .colab-df-quickchart {\n",
              "      --bg-color: #E8F0FE;\n",
              "      --fill-color: #1967D2;\n",
              "      --hover-bg-color: #E2EBFA;\n",
              "      --hover-fill-color: #174EA6;\n",
              "      --disabled-fill-color: #AAA;\n",
              "      --disabled-bg-color: #DDD;\n",
              "  }\n",
              "\n",
              "  [theme=dark] .colab-df-quickchart {\n",
              "      --bg-color: #3B4455;\n",
              "      --fill-color: #D2E3FC;\n",
              "      --hover-bg-color: #434B5C;\n",
              "      --hover-fill-color: #FFFFFF;\n",
              "      --disabled-bg-color: #3B4455;\n",
              "      --disabled-fill-color: #666;\n",
              "  }\n",
              "\n",
              "  .colab-df-quickchart {\n",
              "    background-color: var(--bg-color);\n",
              "    border: none;\n",
              "    border-radius: 50%;\n",
              "    cursor: pointer;\n",
              "    display: none;\n",
              "    fill: var(--fill-color);\n",
              "    height: 32px;\n",
              "    padding: 0;\n",
              "    width: 32px;\n",
              "  }\n",
              "\n",
              "  .colab-df-quickchart:hover {\n",
              "    background-color: var(--hover-bg-color);\n",
              "    box-shadow: 0 1px 2px rgba(60, 64, 67, 0.3), 0 1px 3px 1px rgba(60, 64, 67, 0.15);\n",
              "    fill: var(--button-hover-fill-color);\n",
              "  }\n",
              "\n",
              "  .colab-df-quickchart-complete:disabled,\n",
              "  .colab-df-quickchart-complete:disabled:hover {\n",
              "    background-color: var(--disabled-bg-color);\n",
              "    fill: var(--disabled-fill-color);\n",
              "    box-shadow: none;\n",
              "  }\n",
              "\n",
              "  .colab-df-spinner {\n",
              "    border: 2px solid var(--fill-color);\n",
              "    border-color: transparent;\n",
              "    border-bottom-color: var(--fill-color);\n",
              "    animation:\n",
              "      spin 1s steps(1) infinite;\n",
              "  }\n",
              "\n",
              "  @keyframes spin {\n",
              "    0% {\n",
              "      border-color: transparent;\n",
              "      border-bottom-color: var(--fill-color);\n",
              "      border-left-color: var(--fill-color);\n",
              "    }\n",
              "    20% {\n",
              "      border-color: transparent;\n",
              "      border-left-color: var(--fill-color);\n",
              "      border-top-color: var(--fill-color);\n",
              "    }\n",
              "    30% {\n",
              "      border-color: transparent;\n",
              "      border-left-color: var(--fill-color);\n",
              "      border-top-color: var(--fill-color);\n",
              "      border-right-color: var(--fill-color);\n",
              "    }\n",
              "    40% {\n",
              "      border-color: transparent;\n",
              "      border-right-color: var(--fill-color);\n",
              "      border-top-color: var(--fill-color);\n",
              "    }\n",
              "    60% {\n",
              "      border-color: transparent;\n",
              "      border-right-color: var(--fill-color);\n",
              "    }\n",
              "    80% {\n",
              "      border-color: transparent;\n",
              "      border-right-color: var(--fill-color);\n",
              "      border-bottom-color: var(--fill-color);\n",
              "    }\n",
              "    90% {\n",
              "      border-color: transparent;\n",
              "      border-bottom-color: var(--fill-color);\n",
              "    }\n",
              "  }\n",
              "</style>\n",
              "\n",
              "  <script>\n",
              "    async function quickchart(key) {\n",
              "      const quickchartButtonEl =\n",
              "        document.querySelector('#' + key + ' button');\n",
              "      quickchartButtonEl.disabled = true;  // To prevent multiple clicks.\n",
              "      quickchartButtonEl.classList.add('colab-df-spinner');\n",
              "      try {\n",
              "        const charts = await google.colab.kernel.invokeFunction(\n",
              "            'suggestCharts', [key], {});\n",
              "      } catch (error) {\n",
              "        console.error('Error during call to suggestCharts:', error);\n",
              "      }\n",
              "      quickchartButtonEl.classList.remove('colab-df-spinner');\n",
              "      quickchartButtonEl.classList.add('colab-df-quickchart-complete');\n",
              "    }\n",
              "    (() => {\n",
              "      let quickchartButtonEl =\n",
              "        document.querySelector('#df-b381a5e7-f9b7-4641-8c38-827fa159d52a button');\n",
              "      quickchartButtonEl.style.display =\n",
              "        google.colab.kernel.accessAllowed ? 'block' : 'none';\n",
              "    })();\n",
              "  </script>\n",
              "</div>\n",
              "\n",
              "  <div id=\"id_7c924746-1d76-4c99-99a1-41c136a9e80d\">\n",
              "    <style>\n",
              "      .colab-df-generate {\n",
              "        background-color: #E8F0FE;\n",
              "        border: none;\n",
              "        border-radius: 50%;\n",
              "        cursor: pointer;\n",
              "        display: none;\n",
              "        fill: #1967D2;\n",
              "        height: 32px;\n",
              "        padding: 0 0 0 0;\n",
              "        width: 32px;\n",
              "      }\n",
              "\n",
              "      .colab-df-generate:hover {\n",
              "        background-color: #E2EBFA;\n",
              "        box-shadow: 0px 1px 2px rgba(60, 64, 67, 0.3), 0px 1px 3px 1px rgba(60, 64, 67, 0.15);\n",
              "        fill: #174EA6;\n",
              "      }\n",
              "\n",
              "      [theme=dark] .colab-df-generate {\n",
              "        background-color: #3B4455;\n",
              "        fill: #D2E3FC;\n",
              "      }\n",
              "\n",
              "      [theme=dark] .colab-df-generate:hover {\n",
              "        background-color: #434B5C;\n",
              "        box-shadow: 0px 1px 3px 1px rgba(0, 0, 0, 0.15);\n",
              "        filter: drop-shadow(0px 1px 2px rgba(0, 0, 0, 0.3));\n",
              "        fill: #FFFFFF;\n",
              "      }\n",
              "    </style>\n",
              "    <button class=\"colab-df-generate\" onclick=\"generateWithVariable('df')\"\n",
              "            title=\"Generate code using this dataframe.\"\n",
              "            style=\"display:none;\">\n",
              "\n",
              "  <svg xmlns=\"http://www.w3.org/2000/svg\" height=\"24px\"viewBox=\"0 0 24 24\"\n",
              "       width=\"24px\">\n",
              "    <path d=\"M7,19H8.4L18.45,9,17,7.55,7,17.6ZM5,21V16.75L18.45,3.32a2,2,0,0,1,2.83,0l1.4,1.43a1.91,1.91,0,0,1,.58,1.4,1.91,1.91,0,0,1-.58,1.4L9.25,21ZM18.45,9,17,7.55Zm-12,3A5.31,5.31,0,0,0,4.9,8.1,5.31,5.31,0,0,0,1,6.5,5.31,5.31,0,0,0,4.9,4.9,5.31,5.31,0,0,0,6.5,1,5.31,5.31,0,0,0,8.1,4.9,5.31,5.31,0,0,0,12,6.5,5.46,5.46,0,0,0,6.5,12Z\"/>\n",
              "  </svg>\n",
              "    </button>\n",
              "    <script>\n",
              "      (() => {\n",
              "      const buttonEl =\n",
              "        document.querySelector('#id_7c924746-1d76-4c99-99a1-41c136a9e80d button.colab-df-generate');\n",
              "      buttonEl.style.display =\n",
              "        google.colab.kernel.accessAllowed ? 'block' : 'none';\n",
              "\n",
              "      buttonEl.onclick = () => {\n",
              "        google.colab.notebook.generateWithVariable('df');\n",
              "      }\n",
              "      })();\n",
              "    </script>\n",
              "  </div>\n",
              "\n",
              "    </div>\n",
              "  </div>\n"
            ],
            "application/vnd.google.colaboratory.intrinsic+json": {
              "type": "dataframe",
              "variable_name": "df",
              "repr_error": "Out of range float values are not JSON compliant: nan"
            }
          },
          "metadata": {},
          "execution_count": 12
        }
      ],
      "source": [
        "# your code here\n",
        "import pandas as pd\n",
        "from datetime import datetime\n",
        "\n",
        "# แยกชื่อและนามสกุล\n",
        "df[['Firstname', 'Lastname']] = df['Fullname'].str.split(' ', n=1, expand=True)\n",
        "\n",
        "# แปลงวันที่เป็นวันในสัปดาห์\n",
        "df['Birthdate'] = pd.to_datetime(df['Birthdate'], format='%d/%m/%Y')\n",
        "df['Weekday'] = df['Birthdate'].dt.day_name()\n",
        "\n",
        "# แยกประเทศ\n",
        "df['Country'] = df['Address'].str.extract(r', ([A-Za-z]+)$')\n",
        "df"
      ]
    },
    {
      "cell_type": "markdown",
      "metadata": {
        "id": "s3J7WMDJkpS_"
      },
      "source": [
        "4) ให้คัดแยกอีเมลทั้งหมดจากข้อความต่อไปนี้"
      ]
    },
    {
      "cell_type": "code",
      "execution_count": 14,
      "metadata": {
        "colab": {
          "base_uri": "https://localhost:8080/"
        },
        "id": "hA_3EDQClP1L",
        "outputId": "72921c1f-7683-494b-c552-c43a5aa6759f"
      },
      "outputs": [
        {
          "output_type": "stream",
          "name": "stdout",
          "text": [
            "In the heart of the city, Emily navigated daily chaos in her bustling office. \n",
            "Every morning, Emily boarded a bus from redline@bus.com, finding solace in the routine. \n",
            "Amid the rhythmic motion of the bus, she exchanged tired smiles with fellow passengers, \n",
            "whose email addresses are jason.patel@gmail.com, redpanda123@hotmail.com, and chachacha555@kkumail.com. \n",
            "Conversations buzzed about projects and deadlines, creating a unique camaraderie.\n"
          ]
        }
      ],
      "source": [
        "text = \"In the heart of the city, Emily navigated daily chaos in her bustling office. \\nEvery morning, Emily boarded a bus from redline@bus.com, finding solace in the routine. \\nAmid the rhythmic motion of the bus, she exchanged tired smiles with fellow passengers, \\nwhose email addresses are jason.patel@gmail.com, redpanda123@hotmail.com, and chachacha555@kkumail.com. \\nConversations buzzed about projects and deadlines, creating a unique camaraderie.\"\n",
        "print(text)"
      ]
    },
    {
      "cell_type": "code",
      "execution_count": 15,
      "metadata": {
        "id": "Hi0RM9v1oDR3",
        "colab": {
          "base_uri": "https://localhost:8080/"
        },
        "outputId": "f4ac6c6d-a160-445c-9b7a-aef48ce94d6c"
      },
      "outputs": [
        {
          "output_type": "stream",
          "name": "stdout",
          "text": [
            "['redline@bus.com', 'jason.patel@gmail.com', 'redpanda123@hotmail.com', 'chachacha555@kkumail.com']\n"
          ]
        }
      ],
      "source": [
        "# your code here\n",
        "# prompt: ให้คัดแยกอีเมลทั้งหมดออกจากจากข้อความต่อไปนี้\n",
        "\n",
        "import re\n",
        "\n",
        "# ใช้ regular expression เพื่อค้นหาอีเมล\n",
        "emails = re.findall(r'\\b[A-Za-z0-9._%+-]+@[A-Za-z0-9.-]+\\.[A-Z|a-z]{2,}\\b', text)\n",
        "\n",
        "# แสดงผลลัพธ์\n",
        "print(emails)\n"
      ]
    },
    {
      "cell_type": "markdown",
      "metadata": {
        "id": "bSsqAVJWuHpR"
      },
      "source": [
        "5) สร้าง word tokens และ 2-gram และ 3-gram tokens จากข้อความต่อไปนี้"
      ]
    },
    {
      "cell_type": "code",
      "execution_count": 25,
      "metadata": {
        "colab": {
          "base_uri": "https://localhost:8080/"
        },
        "id": "0qswOPb3uOxf",
        "outputId": "877f3017-69e0-4468-95f0-0f67ba5de230"
      },
      "outputs": [
        {
          "output_type": "stream",
          "name": "stdout",
          "text": [
            "A day without a friend is like a pot without a single drop of honey.\n"
          ]
        }
      ],
      "source": [
        "pooh = \"A day without a friend is like a pot without a single drop of honey.\"\n",
        "print(pooh)"
      ]
    },
    {
      "cell_type": "code",
      "source": [
        "import nltk\n",
        "nltk.download('punkt')"
      ],
      "metadata": {
        "colab": {
          "base_uri": "https://localhost:8080/"
        },
        "id": "48oNuUpKl_eE",
        "outputId": "94ddcb06-4fc7-4192-d248-a169b1744145"
      },
      "execution_count": 28,
      "outputs": [
        {
          "output_type": "stream",
          "name": "stderr",
          "text": [
            "[nltk_data] Downloading package punkt to /root/nltk_data...\n",
            "[nltk_data]   Unzipping tokenizers/punkt.zip.\n"
          ]
        },
        {
          "output_type": "execute_result",
          "data": {
            "text/plain": [
              "True"
            ]
          },
          "metadata": {},
          "execution_count": 28
        }
      ]
    },
    {
      "cell_type": "code",
      "source": [
        "from nltk.tokenize import word_tokenize\n",
        "\n",
        "text = \"A day without a friend is like a pot without a single drop of honey.\"\n",
        "tokens = word_tokenize(text)\n",
        "print(tokens)"
      ],
      "metadata": {
        "colab": {
          "base_uri": "https://localhost:8080/"
        },
        "id": "_m8d0DM1mA21",
        "outputId": "11722e0c-d630-4429-ce9b-74ada68177c7"
      },
      "execution_count": 29,
      "outputs": [
        {
          "output_type": "stream",
          "name": "stdout",
          "text": [
            "['A', 'day', 'without', 'a', 'friend', 'is', 'like', 'a', 'pot', 'without', 'a', 'single', 'drop', 'of', 'honey', '.']\n"
          ]
        }
      ]
    },
    {
      "cell_type": "code",
      "execution_count": 30,
      "metadata": {
        "id": "bf4bmxShuQH7",
        "colab": {
          "base_uri": "https://localhost:8080/"
        },
        "outputId": "8f0e7ed5-ce52-46c2-edba-9a7bfa9408c7"
      },
      "outputs": [
        {
          "output_type": "stream",
          "name": "stdout",
          "text": [
            "Word Tokens: ['A', 'day', 'without', 'a', 'friend', 'is', 'like', 'a', 'pot', 'without', 'a', 'single', 'drop', 'of', 'honey.']\n",
            "2-Grams: [('A', 'day'), ('day', 'without'), ('without', 'a'), ('a', 'friend'), ('friend', 'is'), ('is', 'like'), ('like', 'a'), ('a', 'pot'), ('pot', 'without'), ('without', 'a'), ('a', 'single'), ('single', 'drop'), ('drop', 'of'), ('of', 'honey.')]\n",
            "3-Grams: [('A', 'day', 'without'), ('day', 'without', 'a'), ('without', 'a', 'friend'), ('a', 'friend', 'is'), ('friend', 'is', 'like'), ('is', 'like', 'a'), ('like', 'a', 'pot'), ('a', 'pot', 'without'), ('pot', 'without', 'a'), ('without', 'a', 'single'), ('a', 'single', 'drop'), ('single', 'drop', 'of'), ('drop', 'of', 'honey.')]\n"
          ]
        }
      ],
      "source": [
        "# your code here\n",
        "from nltk import ngrams\n",
        "from nltk.tokenize import word_tokenize\n",
        "\n",
        "# Sample text\n",
        "tokens = word_tokenize(text)\n",
        "text = \"A day without a friend is like a pot without a single drop of honey.\"\n",
        "\n",
        "# Tokenizing the text by splitting it based on spaces\n",
        "word_tokens = text.split()\n",
        "\n",
        "# Creating 2-gram and 3-gram tokens\n",
        "two_grams = [tuple(word_tokens[i:i+2]) for i in range(len(word_tokens)-1)]\n",
        "three_grams = [tuple(word_tokens[i:i+3]) for i in range(len(word_tokens)-2)]\n",
        "\n",
        "# Displaying the results\n",
        "print(\"Word Tokens:\", word_tokens)\n",
        "print(\"2-Grams:\", two_grams)\n",
        "print(\"3-Grams:\", three_grams)\n"
      ]
    },
    {
      "cell_type": "code",
      "source": [
        "\n",
        "bigrams = list(ngrams(tokens, 2))\n",
        "bigrams"
      ],
      "metadata": {
        "colab": {
          "base_uri": "https://localhost:8080/"
        },
        "id": "2QMDRx0dlKF7",
        "outputId": "cb9d4202-a305-4464-a7cc-1b55be8e81a7"
      },
      "execution_count": 31,
      "outputs": [
        {
          "output_type": "execute_result",
          "data": {
            "text/plain": [
              "[('A', 'day'),\n",
              " ('day', 'without'),\n",
              " ('without', 'a'),\n",
              " ('a', 'friend'),\n",
              " ('friend', 'is'),\n",
              " ('is', 'like'),\n",
              " ('like', 'a'),\n",
              " ('a', 'pot'),\n",
              " ('pot', 'without'),\n",
              " ('without', 'a'),\n",
              " ('a', 'single'),\n",
              " ('single', 'drop'),\n",
              " ('drop', 'of'),\n",
              " ('of', 'honey'),\n",
              " ('honey', '.')]"
            ]
          },
          "metadata": {},
          "execution_count": 31
        }
      ]
    },
    {
      "cell_type": "code",
      "source": [
        "\n",
        "trigrams = list(ngrams(tokens, 3))\n",
        "trigrams\n",
        ""
      ],
      "metadata": {
        "colab": {
          "base_uri": "https://localhost:8080/"
        },
        "id": "8uthBl5plMFG",
        "outputId": "c6b54916-74e2-426d-a901-548f5af89a10"
      },
      "execution_count": 32,
      "outputs": [
        {
          "output_type": "execute_result",
          "data": {
            "text/plain": [
              "[('A', 'day', 'without'),\n",
              " ('day', 'without', 'a'),\n",
              " ('without', 'a', 'friend'),\n",
              " ('a', 'friend', 'is'),\n",
              " ('friend', 'is', 'like'),\n",
              " ('is', 'like', 'a'),\n",
              " ('like', 'a', 'pot'),\n",
              " ('a', 'pot', 'without'),\n",
              " ('pot', 'without', 'a'),\n",
              " ('without', 'a', 'single'),\n",
              " ('a', 'single', 'drop'),\n",
              " ('single', 'drop', 'of'),\n",
              " ('drop', 'of', 'honey'),\n",
              " ('of', 'honey', '.')]"
            ]
          },
          "metadata": {},
          "execution_count": 32
        }
      ]
    },
    {
      "cell_type": "markdown",
      "metadata": {
        "id": "_vg7YG9oglct"
      },
      "source": [
        "6) ให้ทำการ stem และ lemmatize ข้อความต่อไปนี้"
      ]
    },
    {
      "cell_type": "code",
      "execution_count": null,
      "metadata": {
        "colab": {
          "base_uri": "https://localhost:8080/"
        },
        "outputId": "4a80ba5c-d861-4d56-9c0c-ea943165af91",
        "id": "odCNCqSZglcu"
      },
      "outputs": [
        {
          "name": "stdout",
          "output_type": "stream",
          "text": [
            "A day without a friend is like a pot without a single drop of honey.\n"
          ]
        }
      ],
      "source": [
        "pooh = \"A day without a friend is like a pot without a single drop of honey.\"\n",
        "print(pooh)"
      ]
    },
    {
      "cell_type": "code",
      "execution_count": 33,
      "metadata": {
        "id": "HXi4PVCrglcu",
        "colab": {
          "base_uri": "https://localhost:8080/"
        },
        "outputId": "117822ad-e5b6-4c8e-d5ec-238adfc0ee0c"
      },
      "outputs": [
        {
          "output_type": "stream",
          "name": "stderr",
          "text": [
            "[nltk_data] Downloading package punkt to /root/nltk_data...\n",
            "[nltk_data]   Package punkt is already up-to-date!\n",
            "[nltk_data] Downloading package wordnet to /root/nltk_data...\n",
            "[nltk_data] Downloading package omw-1.4 to /root/nltk_data...\n"
          ]
        },
        {
          "output_type": "stream",
          "name": "stdout",
          "text": [
            "Original words: ['A', 'day', 'without', 'a', 'friend', 'is', 'like', 'a', 'pot', 'without', 'a', 'single', 'drop', 'of', 'honey', '.']\n",
            "Stemmed words: ['a', 'day', 'without', 'a', 'friend', 'is', 'like', 'a', 'pot', 'without', 'a', 'singl', 'drop', 'of', 'honey', '.']\n",
            "Lemmatized words: ['A', 'day', 'without', 'a', 'friend', 'is', 'like', 'a', 'pot', 'without', 'a', 'single', 'drop', 'of', 'honey', '.']\n"
          ]
        }
      ],
      "source": [
        "# your code here\n",
        "import nltk\n",
        "from nltk.stem import PorterStemmer\n",
        "from nltk.stem import WordNetLemmatizer\n",
        "\n",
        "# ดาวน์โหลด resource ที่จำเป็น\n",
        "nltk.download('punkt')\n",
        "nltk.download('wordnet')\n",
        "nltk.download('omw-1.4')\n",
        "\n",
        "# ข้อความตัวอย่าง\n",
        "pooh = \"A day without a friend is like a pot without a single drop of honey.\"\n",
        "\n",
        "# Tokenize ข้อความ\n",
        "word_tokens = nltk.word_tokenize(pooh)\n",
        "\n",
        "# สร้าง stemmer และ lemmatizer\n",
        "stemmer = PorterStemmer()\n",
        "lemmatizer = WordNetLemmatizer()\n",
        "\n",
        "# ทำการ stemming\n",
        "stemmed_words = [stemmer.stem(word) for word in word_tokens]\n",
        "\n",
        "# ทำการ lemmatization\n",
        "lemmatized_words = [lemmatizer.lemmatize(word) for word in word_tokens]\n",
        "\n",
        "# แสดงผลลัพธ์\n",
        "print(\"Original words:\", word_tokens)\n",
        "print(\"Stemmed words:\", stemmed_words)\n",
        "print(\"Lemmatized words:\", lemmatized_words)"
      ]
    },
    {
      "cell_type": "code",
      "source": [
        "\n",
        "# ทำการ stemming\n",
        "stemmed_words = [stemmer.stem(word) for word in word_tokens]\n",
        "stemmed_words\n",
        ""
      ],
      "metadata": {
        "colab": {
          "base_uri": "https://localhost:8080/"
        },
        "id": "RjYGsVnYmXuM",
        "outputId": "1d9a98e7-a1a2-45e3-e52a-c5890ce97a5d"
      },
      "execution_count": 34,
      "outputs": [
        {
          "output_type": "execute_result",
          "data": {
            "text/plain": [
              "['a',\n",
              " 'day',\n",
              " 'without',\n",
              " 'a',\n",
              " 'friend',\n",
              " 'is',\n",
              " 'like',\n",
              " 'a',\n",
              " 'pot',\n",
              " 'without',\n",
              " 'a',\n",
              " 'singl',\n",
              " 'drop',\n",
              " 'of',\n",
              " 'honey',\n",
              " '.']"
            ]
          },
          "metadata": {},
          "execution_count": 34
        }
      ]
    },
    {
      "cell_type": "code",
      "source": [
        "\n",
        "lemmatized_words"
      ],
      "metadata": {
        "colab": {
          "base_uri": "https://localhost:8080/"
        },
        "id": "FZYp8vtqmaNt",
        "outputId": "780d2299-b0c2-4efa-86ad-a0c4c58ab1e2"
      },
      "execution_count": 35,
      "outputs": [
        {
          "output_type": "execute_result",
          "data": {
            "text/plain": [
              "['A',\n",
              " 'day',\n",
              " 'without',\n",
              " 'a',\n",
              " 'friend',\n",
              " 'is',\n",
              " 'like',\n",
              " 'a',\n",
              " 'pot',\n",
              " 'without',\n",
              " 'a',\n",
              " 'single',\n",
              " 'drop',\n",
              " 'of',\n",
              " 'honey',\n",
              " '.']"
            ]
          },
          "metadata": {},
          "execution_count": 35
        }
      ]
    }
  ],
  "metadata": {
    "colab": {
      "provenance": [],
      "include_colab_link": true
    },
    "kernelspec": {
      "display_name": "Python 3 (ipykernel)",
      "language": "python",
      "name": "python3"
    },
    "language_info": {
      "codemirror_mode": {
        "name": "ipython",
        "version": 3
      },
      "file_extension": ".py",
      "mimetype": "text/x-python",
      "name": "python",
      "nbconvert_exporter": "python",
      "pygments_lexer": "ipython3",
      "version": "3.8.8"
    }
  },
  "nbformat": 4,
  "nbformat_minor": 0
}